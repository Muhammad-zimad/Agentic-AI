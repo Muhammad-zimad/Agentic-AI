{
  "nbformat": 4,
  "nbformat_minor": 0,
  "metadata": {
    "colab": {
      "provenance": []
    },
    "kernelspec": {
      "name": "python3",
      "display_name": "Python 3"
    },
    "language_info": {
      "name": "python"
    }
  },
  "cells": [
    {
      "cell_type": "markdown",
      "source": [
        "                     Python List Exercises\n",
        "\n",
        "\n",
        "\n"
      ],
      "metadata": {
        "id": "RYdqBNgvZ68d"
      }
    },
    {
      "cell_type": "code",
      "source": [
        "   # Exercise 3-1: Names\n",
        "names = ['zimad','hamza','zain','muaaz']\n",
        "print(names[0])\n",
        "print(names[1])\n",
        "print(names[2])\n",
        "print(names[3])"
      ],
      "metadata": {
        "colab": {
          "base_uri": "https://localhost:8080/"
        },
        "id": "x4zydE5PaeV8",
        "outputId": "30eb3a3c-e16e-4623-cb58-c9b67192b6b9"
      },
      "execution_count": 10,
      "outputs": [
        {
          "output_type": "stream",
          "name": "stdout",
          "text": [
            "zimad\n",
            "hamza\n",
            "zain\n",
            "muaaz\n"
          ]
        }
      ]
    },
    {
      "cell_type": "code",
      "source": [
        "       #  Exercise 3-2: Greetings\n",
        "names = ['zimad','hamza','zain','muaaz']\n",
        "print(f\"Hellow {names[0]} ! welcome to python world\")\n",
        "print(f\"Hellow {names[1]} ! welcome to python world\")\n",
        "print(f\"Hellow {names[2]} ! welcome to python world\")\n",
        "print(f\"Hellow {names[3]} ! welcome to python world\")\n",
        "\n"
      ],
      "metadata": {
        "colab": {
          "base_uri": "https://localhost:8080/"
        },
        "id": "Q-bLqaPxz6Fm",
        "outputId": "7cd70b62-b89e-43bd-91dd-e4955d037696"
      },
      "execution_count": 11,
      "outputs": [
        {
          "output_type": "stream",
          "name": "stdout",
          "text": [
            "Hellow zimad ! welcome to python world\n",
            "Hellow hamza ! welcome to python world\n",
            "Hellow zain ! welcome to python world\n",
            "Hellow muaaz ! welcome to python world\n"
          ]
        }
      ]
    },
    {
      "cell_type": "code",
      "source": [
        "         #  Exercise 3-3: Your Own List\n",
        "transportation = ['Honda city car','Toyota fortuner car',' Honda motorcycle','Suzuki motorcycle']\n",
        "print(f\"I would like to own a {transportation[0]}\")\n",
        "print(f\"I would like to own a {transportation[1]}\")\n",
        "print(f\"I would like to own a {transportation[2]}\")\n",
        "print(f\"I would like to own a {transportation[3]}\")\n"
      ],
      "metadata": {
        "colab": {
          "base_uri": "https://localhost:8080/"
        },
        "id": "usq5nMrN2ARh",
        "outputId": "fb42ad77-1772-4d6e-8ec3-4c4f1d55d1d5"
      },
      "execution_count": 12,
      "outputs": [
        {
          "output_type": "stream",
          "name": "stdout",
          "text": [
            "I would like to own a Honda city car\n",
            "I would like to own a Toyota fortuner car\n",
            "I would like to own a  Honda motorcycle\n",
            "I would like to own a Suzuki motorcycle\n"
          ]
        }
      ]
    },
    {
      "cell_type": "code",
      "source": [
        "   # Exercise 3-4: Guest List\n",
        "\n",
        "   dinner_guests = ['zimad','ali','muaaz']\n",
        "   print(f\" Dear{dinner_guests[0]} !  I would like it you attend dinner with me\")\n",
        "   print(f\" Dear{dinner_guests[1]} !  I would like it you attend dinner with me\")\n",
        "   print(f\" Dear{dinner_guests[2]} !  I would like it you attend dinner with me\")"
      ],
      "metadata": {
        "colab": {
          "base_uri": "https://localhost:8080/"
        },
        "id": "M1ERG36Xah-Q",
        "outputId": "31cf1c2e-479c-4f1a-ac2e-c13f1386f31b"
      },
      "execution_count": 13,
      "outputs": [
        {
          "output_type": "stream",
          "name": "stdout",
          "text": [
            " Dearzimad !  I would like it you attend dinner with me\n",
            " Dearali !  I would like it you attend dinner with me\n",
            " Dearmuaaz !  I would like it you attend dinner with me\n"
          ]
        }
      ]
    },
    {
      "cell_type": "code",
      "source": [
        "    #  Exercise 3-5: Changing Guest List\n",
        "\n",
        "   # replace name (due to unfortunaltely onr person is not comming)\n",
        "\n",
        "dinner_guests = ['zimad','ali','muaaz']\n",
        "print(f\" Dear {dinner_guests[0]} !  I would like it you attend dinner with me\")\n",
        "print(f\" Dear {dinner_guests[1]} !  I would like it you attend dinner with me\")\n",
        "print(f\" Dear {dinner_guests[2]} !  I would like it you attend dinner with me\")\n",
        "\n",
        "   # unfortunaltely ali is not come in dinner so invite a new person for dinner\n",
        "\n",
        "dinner_guests[1] = 'hamza'\n",
        "\n",
        "print(f\" Dear {dinner_guests[0]} !  I would like it you attend dinner with me\")\n",
        "print(f\" Dear {dinner_guests[1]} !  I would like it you attend dinner with me\")\n",
        "print(f\" Dear {dinner_guests[2]} !  I would like it you attend dinner with me\")\n",
        ""
      ],
      "metadata": {
        "colab": {
          "base_uri": "https://localhost:8080/"
        },
        "id": "ZX_OyE4jpbw5",
        "outputId": "ccc15f66-0d3e-4e78-9299-ba28530a2c4b"
      },
      "execution_count": 14,
      "outputs": [
        {
          "output_type": "stream",
          "name": "stdout",
          "text": [
            " Dear zimad !  I would like it you attend dinner with me\n",
            " Dear ali !  I would like it you attend dinner with me\n",
            " Dear muaaz !  I would like it you attend dinner with me\n",
            " Dear zimad !  I would like it you attend dinner with me\n",
            " Dear hamza !  I would like it you attend dinner with me\n",
            " Dear muaaz !  I would like it you attend dinner with me\n"
          ]
        }
      ]
    },
    {
      "cell_type": "code",
      "source": [
        "   #   Exercise 3-6: More Guests\n",
        "\n",
        "   # replace name (due to unfortunaltely onr person is not comming)\n",
        "\n",
        "dinner_guests = ['zimad','ali','muaaz']\n",
        "print(f\" Dear {dinner_guests[0]} !  I would like it you attend dinner with me\")\n",
        "print(f\" Dear  {dinner_guests[1]} !  I would like it you attend dinner with me\")\n",
        "print(f\" Dear{dinner_guests[2]} !  I would like it you attend dinner with me\")\n",
        "\n",
        "   # unfortunaltely ali is not come in dinner so invite a new person for dinner\n",
        "\n",
        "dinner_guests[1] = 'hamza'\n",
        "\n",
        "print(f\" Dear {dinner_guests[0]} !  I would like it you attend dinner with me\")\n",
        "print(f\" Dear {dinner_guests[1]} !  I would like it you attend dinner with me\")\n",
        "print(f\" Dear {dinner_guests[2]} !  I would like it you attend dinner with me\")\n",
        "\n",
        "print(\"Listen everyone i found a bigger table\")\n",
        "\n",
        "# add one new guest to the beginning of your list.\n",
        "\n",
        "dinner_guests.insert(0, \"Amna\")\n",
        "print(dinner_guests)\n",
        "\n",
        "# to add one new guest to the middle of your list.\n",
        "\n",
        "middle_index = len(dinner_guests) // 2\n",
        "dinner_guests.insert(middle_index, \"raza\")\n",
        "print(dinner_guests)\n",
        "# add one new guest to the end of your list.\n",
        "dinner_guests.append(\"Ismail\")\n",
        "print(dinner_guests)\n",
        "\n",
        "    #  new set of invitation messages, one for each person in your list.\n",
        "\n",
        "print(f\" Dear {dinner_guests[0]} !  I would like it you attend dinner with me\")\n",
        "print(f\" Dear {dinner_guests[1]} !  I would like it you attend dinner with me\")\n",
        "print(f\" Dear {dinner_guests[2]} !  I would like it you attend dinner with me\")\n",
        "print(f\" Dear {dinner_guests[3]} !  I would like it you attend dinner with me\")\n",
        "print(f\" Dear {dinner_guests[4]} !  I would like it you attend dinner with me\")\n",
        "print(f\" Dear {dinner_guests[5]} !  I would like it you attend dinner with me\")\n",
        "\n"
      ],
      "metadata": {
        "colab": {
          "base_uri": "https://localhost:8080/"
        },
        "id": "Po1erSPHyJVW",
        "outputId": "b662563a-93ba-4898-8a28-d0b2004f2222"
      },
      "execution_count": 15,
      "outputs": [
        {
          "output_type": "stream",
          "name": "stdout",
          "text": [
            " Dear zimad !  I would like it you attend dinner with me\n",
            " Dear  ali !  I would like it you attend dinner with me\n",
            " Dearmuaaz !  I would like it you attend dinner with me\n",
            " Dear zimad !  I would like it you attend dinner with me\n",
            " Dear hamza !  I would like it you attend dinner with me\n",
            " Dear muaaz !  I would like it you attend dinner with me\n",
            "Listen everyone i found a bigger table\n",
            "['Amna', 'zimad', 'hamza', 'muaaz']\n",
            "['Amna', 'zimad', 'raza', 'hamza', 'muaaz']\n",
            "['Amna', 'zimad', 'raza', 'hamza', 'muaaz', 'Ismail']\n",
            " Dear Amna !  I would like it you attend dinner with me\n",
            " Dear zimad !  I would like it you attend dinner with me\n",
            " Dear raza !  I would like it you attend dinner with me\n",
            " Dear hamza !  I would like it you attend dinner with me\n",
            " Dear muaaz !  I would like it you attend dinner with me\n",
            " Dear Ismail !  I would like it you attend dinner with me\n"
          ]
        }
      ]
    },
    {
      "cell_type": "code",
      "source": [
        "    #   Exercise 3-7: Shrinking Guest List\n",
        "dinner_guests =['Amna', 'zimad', 'raza', 'hamza', 'muaaz', 'Ismail']\n",
        "print(f\" Dear {dinner_guests[0]} !  I would like it you attend dinner with me\")\n",
        "print(f\" Dear {dinner_guests[1]} !  I would like it you attend dinner with me\")\n",
        "print(f\" Dear {dinner_guests[2]} !  I would like it you attend dinner with me\")\n",
        "print(f\" Dear {dinner_guests[3]} !  I would like it you attend dinner with me\")\n",
        "print(f\" Dear {dinner_guests[4]} !  I would like it you attend dinner with me\")\n",
        "print(f\" Dear {dinner_guests[5]} !  I would like it you attend dinner with me\")\n",
        "\n",
        "print(\"Sorry guys! unfortunately i can invite only two person\")\n",
        "\n",
        "  # remove all person until remaing two\n",
        "\n",
        "dinner_guests.pop()\n",
        "dinner_guests.pop()\n",
        "dinner_guests.pop()\n",
        "dinner_guests.pop()\n",
        "print(dinner_guests)\n",
        "\n",
        "  # remaing two person invitation\n",
        "print(f\" Dear {dinner_guests[0]} !  congratulations  you are still invited in my dinner\")\n",
        "print(f\" Dear {dinner_guests[1]} !  congragulations  you are still invited in my dinner\")\n",
        "\n",
        "       # empty list\n",
        "del dinner_guests[:]\n",
        "print(\"\\nFinal guest list:\", dinner_guests)"
      ],
      "metadata": {
        "colab": {
          "base_uri": "https://localhost:8080/"
        },
        "id": "4JKGPfJQgbDt",
        "outputId": "54728635-1d27-4bc5-a652-44d35ca64da0"
      },
      "execution_count": 16,
      "outputs": [
        {
          "output_type": "stream",
          "name": "stdout",
          "text": [
            " Dear Amna !  I would like it you attend dinner with me\n",
            " Dear zimad !  I would like it you attend dinner with me\n",
            " Dear raza !  I would like it you attend dinner with me\n",
            " Dear hamza !  I would like it you attend dinner with me\n",
            " Dear muaaz !  I would like it you attend dinner with me\n",
            " Dear Ismail !  I would like it you attend dinner with me\n",
            "Sorry guys! unfortunately i can invite only two person\n",
            "['Amna', 'zimad']\n",
            " Dear Amna !  congratulations  you are still invited in my dinner\n",
            " Dear zimad !  congragulations  you are still invited in my dinner\n",
            "\n",
            "Final guest list: []\n"
          ]
        }
      ]
    },
    {
      "cell_type": "code",
      "source": [
        "          # Exercise 3-9: Dinner Guests\n",
        "\n",
        "      #  number of people you’re inviting to dinner.\n",
        "\n",
        "          # Through  Exercises 3-4\n",
        "\n",
        "dinner_guests = ['zimad','ali','muaaz']\n",
        "print(len(dinner_guests))\n",
        "\n",
        "           # Through Exercise  3-7\n",
        "\n",
        "dinner_guests = ()\n",
        "print(len(dinner_guests))\n"
      ],
      "metadata": {
        "colab": {
          "base_uri": "https://localhost:8080/"
        },
        "id": "CMi7PS2MrFQs",
        "outputId": "f24088c7-d3a4-4cd6-d063-bc5464b5f17c"
      },
      "execution_count": 17,
      "outputs": [
        {
          "output_type": "stream",
          "name": "stdout",
          "text": [
            "3\n",
            "0\n"
          ]
        }
      ]
    },
    {
      "cell_type": "code",
      "source": [
        "     #  Exercise 3-8: Seeing the World\n",
        "\n",
        "places = [\"Canada\", \"London\", \"Manchester\", \"Turkey\", \"India\"]\n",
        "\n",
        "places_sorted= sorted(places)\n",
        "         #1\n",
        "print(places_sorted)\n",
        "        #2\n",
        "print(places)\n",
        "\n",
        "places_sorted_reverse = sorted(places, reverse=True)\n",
        "        #3\n",
        "print(places_sorted_reverse)\n",
        "       #4\n",
        "print(places)\n",
        "\n",
        "places.reverse()\n",
        "       #5\n",
        "print(places)\n",
        "\n",
        "places.reverse()\n",
        "      #6\n",
        "print(places)\n",
        "\n",
        "places.sort()\n",
        "      #7\n",
        "print(places)\n",
        "\n",
        "places.sort(reverse =True )\n",
        "     #8\n",
        "print(places)"
      ],
      "metadata": {
        "colab": {
          "base_uri": "https://localhost:8080/"
        },
        "id": "YSdDxQait8iH",
        "outputId": "b222bd9f-625f-43ea-e778-f49fafba7ac0"
      },
      "execution_count": 20,
      "outputs": [
        {
          "output_type": "stream",
          "name": "stdout",
          "text": [
            "['Canada', 'India', 'London', 'Manchester', 'Turkey']\n",
            "['Canada', 'London', 'Manchester', 'Turkey', 'India']\n",
            "['Turkey', 'Manchester', 'London', 'India', 'Canada']\n",
            "['Canada', 'London', 'Manchester', 'Turkey', 'India']\n",
            "['India', 'Turkey', 'Manchester', 'London', 'Canada']\n",
            "['Canada', 'London', 'Manchester', 'Turkey', 'India']\n",
            "['Canada', 'India', 'London', 'Manchester', 'Turkey']\n",
            "['Turkey', 'Manchester', 'London', 'India', 'Canada']\n"
          ]
        }
      ]
    },
    {
      "cell_type": "code",
      "source": [
        "  # Exercise 3-10: Every Function\n",
        "languages = [\"Html\", \"Css\", \"C Language\", \"BootStrap\", \"Python\"]\n",
        "\n",
        "       # Sorted and Reverse-Sorted\n",
        "print(f\"Languages in Sorted form are: {sorted(languages)}\")\n",
        "print(f\"Languages in Reverse Sorted form are: {sorted(languages, reverse=True)}\")\n",
        "\n",
        "      # Append\n",
        "languages.append(\"C++\")\n",
        "print(languages)\n",
        "\n",
        "      # Insert\n",
        "languages.insert(0,\"React\")\n",
        "print(languages)\n",
        "\n",
        "      # Remove\n",
        "languages.remove(\"React\")\n",
        "print(languages)\n",
        "\n",
        "      # Replacce\n",
        "languages[5] = \"SQL\"\n",
        "print(languages)\n",
        "\n",
        "      # Pop\n",
        "draft= languages.pop(2)\n",
        "print(draft)\n",
        "\n",
        "      # Reverse\n",
        "languages.reverse()\n",
        "print(languages)\n",
        "\n",
        "     # Copy\n",
        "languages_copy = languages.copy()\n",
        "\n",
        "languages_copy.append(\"J Query\")\n",
        "print(languages_copy)\n",
        "\n",
        "print(languages)\n",
        "\n",
        "     # Clear\n",
        "languages_copy.clear()\n",
        "print(languages_copy)"
      ],
      "metadata": {
        "colab": {
          "base_uri": "https://localhost:8080/"
        },
        "id": "2EurzIvTz0_T",
        "outputId": "00203d02-9db5-4132-d2e8-f3b23ee722e0"
      },
      "execution_count": 23,
      "outputs": [
        {
          "output_type": "stream",
          "name": "stdout",
          "text": [
            "Languages in Sorted form are: ['BootStrap', 'C Language', 'Css', 'Html', 'Python']\n",
            "Languages in Reverse Sorted form are: ['Python', 'Html', 'Css', 'C Language', 'BootStrap']\n",
            "['Html', 'Css', 'C Language', 'BootStrap', 'Python', 'C++']\n",
            "['React', 'Html', 'Css', 'C Language', 'BootStrap', 'Python', 'C++']\n",
            "['Html', 'Css', 'C Language', 'BootStrap', 'Python', 'C++']\n",
            "['Html', 'Css', 'C Language', 'BootStrap', 'Python', 'SQL']\n",
            "C Language\n",
            "['SQL', 'Python', 'BootStrap', 'Css', 'Html']\n",
            "['SQL', 'Python', 'BootStrap', 'Css', 'Html', 'J Query']\n",
            "['SQL', 'Python', 'BootStrap', 'Css', 'Html']\n",
            "[]\n"
          ]
        }
      ]
    }
  ]
}