{
  "nbformat": 4,
  "nbformat_minor": 0,
  "metadata": {
    "colab": {
      "provenance": []
    },
    "kernelspec": {
      "name": "python3",
      "display_name": "Python 3"
    },
    "language_info": {
      "name": "python"
    }
  },
  "cells": [
    {
      "cell_type": "code",
      "execution_count": null,
      "metadata": {
        "colab": {
          "base_uri": "https://localhost:8080/"
        },
        "id": "b3My2NHWC2kL",
        "outputId": "a1238d2e-4e0d-4abb-baba-bb2e1e68a408"
      },
      "outputs": [
        {
          "output_type": "stream",
          "name": "stdout",
          "text": [
            "Hello, everyone! I am learning Python. 😄\n"
          ]
        }
      ],
      "source": [
        "# 1st task\n",
        "print(\"Hello, everyone! I am learning Python. 😄\")"
      ]
    },
    {
      "cell_type": "code",
      "source": [
        "# 2nd task\n",
        "name : str ='Zimad'\n",
        "age : int = 20\n",
        "favoriteanimal : str = 'cat'\n",
        "print(\"name:\", name)\n",
        "print(\"Age:\", age)\n",
        "print(\"favoriteanimal:\", favoriteanimal)"
      ],
      "metadata": {
        "colab": {
          "base_uri": "https://localhost:8080/"
        },
        "id": "WboPudMGD3WT",
        "outputId": "7a37e991-a0e3-4e9a-d9fa-4f60ca43481a"
      },
      "execution_count": null,
      "outputs": [
        {
          "output_type": "stream",
          "name": "stdout",
          "text": [
            "name: Zimad\n",
            "Age: 20\n",
            "favoriteanimal: cat\n"
          ]
        }
      ]
    },
    {
      "cell_type": "code",
      "source": [
        "# 3rd task\n",
        "print('My name is', name,'my age is' ,age , 'my favorteanimal',favoriteanimal)"
      ],
      "metadata": {
        "colab": {
          "base_uri": "https://localhost:8080/"
        },
        "id": "7n1658tdJWke",
        "outputId": "836c0a76-8767-4d71-b893-84539d557d81"
      },
      "execution_count": null,
      "outputs": [
        {
          "output_type": "stream",
          "name": "stdout",
          "text": [
            "My name is Zimad my age is 20 my favorteanimal cat\n"
          ]
        }
      ]
    },
    {
      "cell_type": "code",
      "source": [
        "# 4th task\n",
        "favoritemovie : str = 'baaghi 3'\n",
        "BirthYear= 2004\n",
        "PriceofSnack= 25.5\n",
        "print(\"favoritemovie:\", favoritemovie)\n",
        "print(\"BirthYear:\",BirthYear )\n",
        "print(\"PriceofSnack :\",PriceofSnack)"
      ],
      "metadata": {
        "colab": {
          "base_uri": "https://localhost:8080/"
        },
        "id": "oNGUrY-jN4p-",
        "outputId": "fcda3af7-a1a5-40aa-a03a-833011fd759b"
      },
      "execution_count": null,
      "outputs": [
        {
          "output_type": "stream",
          "name": "stdout",
          "text": [
            "favoritemovie: baaghi 3\n",
            "BirthYear: 2004\n",
            "PriceofSnack : 25.5\n"
          ]
        }
      ]
    },
    {
      "cell_type": "code",
      "source": [
        "# 5th task\n",
        "hobby : str = 'cricket'\n",
        "print(\"my hobby is \", hobby)"
      ],
      "metadata": {
        "colab": {
          "base_uri": "https://localhost:8080/"
        },
        "id": "0WuREVsNYlZ-",
        "outputId": "1080f99b-d9f1-4342-91ba-70009d08b89a"
      },
      "execution_count": null,
      "outputs": [
        {
          "output_type": "stream",
          "name": "stdout",
          "text": [
            "my hobby is  cricket\n"
          ]
        }
      ]
    },
    {
      "cell_type": "code",
      "source": [
        "# Extra Challenge (Optional)\n",
        "a = 10\n",
        "b = 10\n",
        "sum = (a+b)\n",
        "print(sum)"
      ],
      "metadata": {
        "colab": {
          "base_uri": "https://localhost:8080/"
        },
        "id": "HuIEE9azaTwQ",
        "outputId": "ebdecb42-265c-43b9-c400-63cd05e684e8"
      },
      "execution_count": null,
      "outputs": [
        {
          "output_type": "stream",
          "name": "stdout",
          "text": [
            "20\n"
          ]
        }
      ]
    }
  ]
}