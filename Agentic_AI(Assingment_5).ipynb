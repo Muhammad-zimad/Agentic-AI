{
  "nbformat": 4,
  "nbformat_minor": 0,
  "metadata": {
    "colab": {
      "provenance": []
    },
    "kernelspec": {
      "name": "python3",
      "display_name": "Python 3"
    },
    "language_info": {
      "name": "python"
    }
  },
  "cells": [
    {
      "cell_type": "markdown",
      "source": [
        "               Python Assignment: Practical Problem Solving"
      ],
      "metadata": {
        "id": "6SxTcFqd1mcr"
      }
    },
    {
      "cell_type": "markdown",
      "source": [
        "      Question 1: Ticket Pricing System"
      ],
      "metadata": {
        "id": "UHyvEfGl1qQb"
      }
    },
    {
      "cell_type": "code",
      "source": [
        "    # You are developing a ticket pricing system for a cinema.\n",
        "age = int(input(\"Enter your age: \"))\n",
        "if(age<5):\n",
        " print(\"Free ticket\")\n",
        "elif  (age<=5 and age>=17):\n",
        "  print(\"Ticket price: 10$\")\n",
        "elif  (age>=18 and age<=60):\n",
        "  print(\"Ticket price: 20$\")\n",
        "else:\n",
        " if(age>60):\n",
        "  print(\"Ticket price: 15$\")"
      ],
      "metadata": {
        "colab": {
          "base_uri": "https://localhost:8080/"
        },
        "id": "MCYLyWOVpKQd",
        "outputId": "88b9e12b-f9ce-434e-b1a4-10b767f519bc"
      },
      "execution_count": null,
      "outputs": [
        {
          "name": "stdout",
          "output_type": "stream",
          "text": [
            "Enter your age: 10\n"
          ]
        }
      ]
    },
    {
      "cell_type": "markdown",
      "source": [
        "               Question 2: Meal Recommendation"
      ],
      "metadata": {
        "id": "sDzxtoxXT78d"
      }
    },
    {
      "cell_type": "code",
      "source": [
        "    # Asks the user what time it is in 24-hour format (e.g., 13 for 1 PM, 18 for 6 PM).\n",
        "time = int(input(\"It's: \"))\n",
        "  # 5 AM to 11 AM: Breakfast\n",
        "if(time>=5 and time<=11 ):\n",
        " print(\"It's time for breakfast\")\n",
        "  # 12 PM to (4=16) PM: Lunch\n",
        "elif (time>=12 and time<=16 ):\n",
        "  print(\"It's time for Lunch\")\n",
        "  # (5=17) PM to (9=21) PM: Dinner\n",
        "elif (time>=17 and time<=21 ):\n",
        "  print(\"It's time for Dinner\")\n",
        "  # (10=22) PM to 4 AM: Late-night Snack\n",
        "elif (time>=22 and time<=4 ):\n",
        "  print(\"It's time for Late-night Snack\")\n",
        "else:\n",
        "  print(\"Invalid time\")\n",
        "\n",
        "\n"
      ],
      "metadata": {
        "colab": {
          "base_uri": "https://localhost:8080/"
        },
        "id": "GZfhJ1myUAj3",
        "outputId": "2ac960c2-6587-435a-c6d2-033023d3a432"
      },
      "execution_count": null,
      "outputs": [
        {
          "output_type": "stream",
          "name": "stdout",
          "text": [
            "It's: 17\n",
            "It's time for Dinner\n"
          ]
        }
      ]
    },
    {
      "cell_type": "markdown",
      "source": [
        "                 Question 3: Grocery Bill Calculator"
      ],
      "metadata": {
        "id": "gHiwMR6mr57w"
      }
    },
    {
      "cell_type": "code",
      "source": [
        "price_1 = int(input(\"Enter the price of 1st item: $\"))\n",
        "price_2 = int(input(\"Enter the price of 2nd item: $\"))\n",
        "price_3 = int(input(\"Enter the price of 3rd item: $\"))\n",
        "price_4 = int(input(\"Enter the price of 4th item: $\"))\n",
        "price_5 = int(input(\"Enterr the price of 5th item: $\"))\n",
        "total_bill = price_1  + price_2 + price_3 + price_4 + price_5\n",
        "if (total_bill<100):\n",
        "  print(\"total_bill\",total_bill)\n",
        "elif (total_bill>100):\n",
        "  # discount  10%\n",
        " discount = total_bill * 0.1\n",
        " discounted_bill = total_bill - discount\n",
        "print(\"total_bill with 10% discount: \",discounted_bill)\n",
        "\n",
        "\n",
        "\n"
      ],
      "metadata": {
        "colab": {
          "base_uri": "https://localhost:8080/"
        },
        "id": "5KCL_ib5sZNW",
        "outputId": "d8391999-c5a9-44f1-fcac-1e8982f8f521"
      },
      "execution_count": null,
      "outputs": [
        {
          "output_type": "stream",
          "name": "stdout",
          "text": [
            "Enter the price of 1st item: $10\n",
            "Enter the price of 2nd item: $20\n",
            "Enter the price of 3rd item: $30\n",
            "Enter the price of 4th item: $40\n",
            "Enterr the price of 5th item: $50\n",
            "total_bill with 10% discount:  135.0\n"
          ]
        }
      ]
    },
    {
      "cell_type": "markdown",
      "source": [
        "            Question 4: Username Validator"
      ],
      "metadata": {
        "id": "fKw6G2butrXT"
      }
    },
    {
      "cell_type": "code",
      "source": [
        "username = input(\"Enter your name: \")\n",
        "if len (username) >5 and len (username) <15:\n",
        "  print(\"valid username\")\n",
        "else:\n",
        "  print(\"invalid username\")"
      ],
      "metadata": {
        "colab": {
          "base_uri": "https://localhost:8080/"
        },
        "id": "n8SXgrCFt1bV",
        "outputId": "7e1eecc8-c4a3-4b7a-cbfd-f07b9b6bdea1"
      },
      "execution_count": null,
      "outputs": [
        {
          "output_type": "stream",
          "name": "stdout",
          "text": [
            "Enter your name: zimad123\n",
            "valid username\n"
          ]
        }
      ]
    },
    {
      "cell_type": "markdown",
      "source": [
        "           Question 5: Travel Destination Suggestion"
      ],
      "metadata": {
        "id": "YElK4xWh96eO"
      }
    },
    {
      "cell_type": "code",
      "source": [
        "wheather = input(\"Wheather at this time: \")\n",
        "if wheather == \"sunny\" :\n",
        " print(\"Go to the beach!\")\n",
        "elif  (wheather == \"rainy\") :\n",
        " print(\" Visit a cozy mountain lodge!!\")\n",
        "elif (wheather == \"snowy\") :\n",
        "  print(\"Visit a cozy mountain lodge!\")\n",
        "else:\n",
        "  print(\"Invalid input\")"
      ],
      "metadata": {
        "colab": {
          "base_uri": "https://localhost:8080/"
        },
        "id": "LxzzV__4-DRX",
        "outputId": "e6cb0164-1c6f-4f52-ecfb-5aecf37aed33"
      },
      "execution_count": null,
      "outputs": [
        {
          "output_type": "stream",
          "name": "stdout",
          "text": [
            "Wheather at this time: snowy\n",
            "Visit a cozy mountain lodge!\n"
          ]
        }
      ]
    },
    {
      "cell_type": "markdown",
      "source": [
        "           Question 6: Discount Eligibility Checker"
      ],
      "metadata": {
        "id": "yyqCciWMK_oD"
      }
    },
    {
      "cell_type": "code",
      "source": [
        "amount = input(\"Total amount spend: \")\n",
        "is_member = input(\"Are you a loyalty program member? (Yes/No): \")\n",
        "if int(amount) > 200 or is_member == \"yes\":\n",
        " print(\"you are eligible for a 10% discount\")\n",
        "else:\n",
        "  print(\"you are not eligible for a dicount\")\n",
        "\n"
      ],
      "metadata": {
        "colab": {
          "base_uri": "https://localhost:8080/"
        },
        "id": "5Vt37KpuLCpd",
        "outputId": "3b24d9e1-042b-471b-935a-510a35debf49"
      },
      "execution_count": null,
      "outputs": [
        {
          "output_type": "stream",
          "name": "stdout",
          "text": [
            "Total amount spend: 250\n",
            "Are you a loyalty program member? (Yes/No): no\n",
            "you are eligible for a 10% discount\n"
          ]
        }
      ]
    },
    {
      "cell_type": "markdown",
      "source": [
        "           Question 7: Event Invitation"
      ],
      "metadata": {
        "id": "yFqUCBgImEvT"
      }
    },
    {
      "cell_type": "code",
      "source": [
        "invited_persons_list = ['zimad','ali','hamza','muaaz','ayzal']\n",
        "person = input(\"Enter your name:\")\n",
        "if person in invited_persons_list:\n",
        "  print(\"you are invited\")\n",
        "else:\n",
        "  print(\"you are not invited\")"
      ],
      "metadata": {
        "colab": {
          "base_uri": "https://localhost:8080/"
        },
        "id": "5lmM3O2vnZnz",
        "outputId": "938db374-3b9d-44ff-d1a7-044985e6b9a8"
      },
      "execution_count": null,
      "outputs": [
        {
          "output_type": "stream",
          "name": "stdout",
          "text": [
            "Enter your name:raja\n",
            "you are not invited\n"
          ]
        }
      ]
    },
    {
      "cell_type": "markdown",
      "source": [
        "         Question 8: Movie Streaming Eligibility"
      ],
      "metadata": {
        "id": "iCZ5U_zirVhb"
      }
    },
    {
      "cell_type": "code",
      "source": [
        "age = int(input(\"Enter your age: \"))\n",
        "movie_name = input(\"Enter movie name: \")\n",
        "if age>=18:\n",
        "  if (movie_name == \"Action movie\"):\n",
        "   print(\"you are eligible to watch the Action movie\")\n",
        "else:\n",
        "  print(\"you are not eligible to watch the Action movie\")\n",
        "  if (movie_name == \"Animated Movies\") :\n",
        "    print(\"you are eligible to watch the Animated Movie\")\n",
        "    if (age>=12):\n",
        "     if (movie_name == \"Documentaries\"):\n",
        "      print(\"you are eligible to watch the Documentaries\")\n",
        "  else:\n",
        "   print(\"you are not eligible to watch the Documentaries\")"
      ],
      "metadata": {
        "colab": {
          "base_uri": "https://localhost:8080/"
        },
        "id": "qHgrQZfQxd28",
        "outputId": "62013a97-9f33-4032-ef00-932b426f04c3"
      },
      "execution_count": null,
      "outputs": [
        {
          "output_type": "stream",
          "name": "stdout",
          "text": [
            "Enter your age: 2\n",
            "Enter movie name: Action movie\n",
            "you are not eligible to watch the Action movie\n",
            "you are not eligible to watch the Documentaries\n"
          ]
        }
      ]
    },
    {
      "cell_type": "markdown",
      "source": [
        "          Question 9: Phone Number Formatter"
      ],
      "metadata": {
        "id": "RG2_6H3zAonX"
      }
    },
    {
      "cell_type": "code",
      "source": [
        "def format_phone_number(phone_number):\n",
        "\n",
        "    if len(phone_number) == 10 and phone_number.isdigit():\n",
        "        formatted_number = f\"({phone_number[:3]}) {phone_number[3:6]}-{phone_number[6:]}\"\n",
        "        return formatted_number\n",
        "    else:\n",
        "        return \"Invalid phone number. Please enter a 10-digit number.\"\n",
        "\n",
        "user_input = input(\"Enter a 10-digit phone number (e.g., 1234567890): \")\n",
        "formatted_number = format_phone_number(user_input)\n",
        "\n",
        "print(formatted_number)\n"
      ],
      "metadata": {
        "colab": {
          "base_uri": "https://localhost:8080/"
        },
        "id": "LAQuZ2nRAwP3",
        "outputId": "4a25a1c6-1091-4867-b378-56bec81badab"
      },
      "execution_count": null,
      "outputs": [
        {
          "output_type": "stream",
          "name": "stdout",
          "text": [
            "Enter a 10-digit phone number (e.g., 1234567890): 1234567890\n",
            "(123) 456-7890\n"
          ]
        }
      ]
    },
    {
      "cell_type": "markdown",
      "source": [
        "             Question 10: Package Shipping Cost"
      ],
      "metadata": {
        "id": "qQvRg8eeN7P-"
      }
    },
    {
      "cell_type": "code",
      "source": [
        "weight = int(input(\"Enter the package weight:\"))\n",
        "if (weight == 1):\n",
        "  print(\"package cast is 5$\")\n",
        "elif (weight >= 1 and weight <= 5):\n",
        "  print(\"package cast is 10S\")\n",
        "elif (weight >= 5 and weight <=20):\n",
        "  print(\"package cast is 20$\")\n",
        "elif (weight > 20):\n",
        "  print(\"package cast is 50$\")\n",
        "else:\n",
        "  print(\"invalid input\")"
      ],
      "metadata": {
        "colab": {
          "base_uri": "https://localhost:8080/"
        },
        "id": "rCHp6SheONV2",
        "outputId": "26216e33-988c-4ad9-e50f-2a408689e9ed"
      },
      "execution_count": null,
      "outputs": [
        {
          "output_type": "stream",
          "name": "stdout",
          "text": [
            "Enter the package weight:100\n",
            "package cast is 50$\n"
          ]
        }
      ]
    },
    {
      "cell_type": "markdown",
      "source": [
        "                Question 11: Student Grading System"
      ],
      "metadata": {
        "id": "Sn5bg_2qQliA"
      }
    },
    {
      "cell_type": "code",
      "source": [
        "English_marks = int(input(\"Enter your English marks: \"))\n",
        "Maths_marks = int(input(\"Enter your Maths marks: \"))\n",
        "Computer_marks = int(input(\"Enter your Computer marks: \"))\n",
        "Arabic_marks = int(input(\"Enter your Arabic marks: \"))\n",
        "Pakstudy_marks = int(input(\"Enter your Pakstudy marks: \"))\n",
        "total_marks = English_marks + Maths_marks + Computer_marks + Arabic_marks + Pakstudy_marks\n",
        "print(\"total marks: \",total_marks)\n",
        "Percentage = (total_marks/500)*100       #   Percentage = (obtained_marks/total_marks)*100\n",
        "print(\"Percentage: \", Percentage)\n",
        "if (Percentage >= 90):\n",
        "  print(\"grade: A\")\n",
        "elif (Percentage >=80 and Percentage <=89):\n",
        "  print(\"grade: B\")\n",
        "elif (Percentage >=70 and Percentage <=79):\n",
        "  print(\"grade: C\")\n",
        "elif (Percentage >=60 and Percentage <=69):\n",
        "  print(\"grade: D\")\n",
        "elif (Percentage <60):\n",
        "  print(\"grade: F\")\n",
        "else:\n",
        "  print(\"Something went wrong in Calculating Grades\")\n",
        "\n",
        "if (Percentage >=60):\n",
        "  print(\"Result: Pass\")\n",
        "else:\n",
        "    print(\"Result: Fail\")"
      ],
      "metadata": {
        "colab": {
          "base_uri": "https://localhost:8080/"
        },
        "id": "hqGsElb4Qq_U",
        "outputId": "6b908583-c431-49d6-dd2f-b48847e03c14"
      },
      "execution_count": null,
      "outputs": [
        {
          "output_type": "stream",
          "name": "stdout",
          "text": [
            "Enter your English marks: 76\n",
            "Enter your Maths marks: 78\n",
            "Enter your Computer marks: 65\n",
            "Enter your Arabic marks: 4\n",
            "Enter your Pakstudy marks: 99\n",
            "total marks:  322\n",
            "Percentage:  64.4\n",
            "grade: D\n",
            "Result: Pass\n"
          ]
        }
      ]
    },
    {
      "cell_type": "markdown",
      "source": [],
      "metadata": {
        "id": "NalML1TGQiKV"
      }
    }
  ]
}