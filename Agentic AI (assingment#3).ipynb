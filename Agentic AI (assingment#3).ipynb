{
  "nbformat": 4,
  "nbformat_minor": 0,
  "metadata": {
    "colab": {
      "provenance": []
    },
    "kernelspec": {
      "name": "python3",
      "display_name": "Python 3"
    },
    "language_info": {
      "name": "python"
    }
  },
  "cells": [
    {
      "cell_type": "markdown",
      "source": [
        "                            PART-1\n",
        "             Working with Variables, Input, and Strings        \n",
        "\n",
        "\n"
      ],
      "metadata": {
        "id": "NvkD83Mv5NTd"
      }
    },
    {
      "cell_type": "markdown",
      "source": [
        "   1.Prompt for user input"
      ],
      "metadata": {
        "id": "ck2Hh90h5jx4"
      }
    },
    {
      "cell_type": "code",
      "source": [
        "full_name = input ('enter your full name')\n",
        "print(f\"hello {full_name} ! welcome to the python language\")"
      ],
      "metadata": {
        "colab": {
          "base_uri": "https://localhost:8080/"
        },
        "id": "XDuOGxbN6nX_",
        "outputId": "5ef99e51-2d92-418c-c953-9dfa0bd4d962"
      },
      "execution_count": null,
      "outputs": [
        {
          "output_type": "stream",
          "name": "stdout",
          "text": [
            "enter your full nameMuhammad zimad\n",
            "hello Muhammad zimad ! welcome to the python language\n"
          ]
        }
      ]
    },
    {
      "cell_type": "markdown",
      "source": [
        "2.String methods"
      ],
      "metadata": {
        "id": "htCVOLn_9wQ0"
      }
    },
    {
      "cell_type": "code",
      "source": [
        "name : str = 'muhammad zimad'\n",
        "# upper\n",
        "print(name.upper())\n",
        "# lower\n",
        "print(name.lower())\n",
        "# length\n",
        "print(len(name))\n",
        "# hyphens\n",
        "#REPLACE ()WITH (-)\n",
        "rep=full_name.replace(\" \",\"-\")\n",
        "print(\"after replacement:\",rep)\n",
        "# strip\n",
        "name = '  muhammad zimad   '\n",
        "full_name = name.strip()\n",
        "print(f\"'{full_name}'\")\n",
        "\n"
      ],
      "metadata": {
        "colab": {
          "base_uri": "https://localhost:8080/"
        },
        "id": "dXq4GcV3-l_X",
        "outputId": "f956485d-09df-4e09-a541-7f21e5b65838"
      },
      "execution_count": null,
      "outputs": [
        {
          "output_type": "stream",
          "name": "stdout",
          "text": [
            "MUHAMMAD ZIMAD\n",
            "muhammad zimad\n",
            "14\n",
            "after replacement: muhammad-zimad\n",
            "'muhammad zimad'\n"
          ]
        }
      ]
    },
    {
      "cell_type": "markdown",
      "source": [
        "          Type casting and numeric operations"
      ],
      "metadata": {
        "id": "oL4ZxXOZmaKQ"
      }
    },
    {
      "cell_type": "code",
      "source": [
        "birth_year = input(\"enter your birth year \")\n",
        "current_year = input(\"enter current year\")\n",
        "birth_year = int(birth_year)\n",
        "current_year = int(current_year)\n",
        "age = current_year - birth_year\n",
        "print(f\"you approximately {age} year old\")"
      ],
      "metadata": {
        "colab": {
          "base_uri": "https://localhost:8080/"
        },
        "id": "1eHNMQ2Bzfsv",
        "outputId": "5af2000f-ecec-4f9a-d393-e9bd2fab3d38"
      },
      "execution_count": null,
      "outputs": [
        {
          "output_type": "stream",
          "name": "stdout",
          "text": [
            "enter your birth year 2005\n",
            "enter current year2024\n",
            "you approximately 19 year old\n"
          ]
        }
      ]
    },
    {
      "cell_type": "markdown",
      "source": [
        "           Part 2: Lists and Indexing"
      ],
      "metadata": {
        "id": "1qCAz-1D_ULg"
      }
    },
    {
      "cell_type": "code",
      "source": [
        " # Create a list from user input\n",
        "fruits=input(\"Enter your three favorite fruits separated by Comma ',':\")\n",
        "fruits_split=fruits.split(',')\n",
        "print(fruits_split)\n",
        "\n",
        "# 2) List indexing and slicing\n",
        "print(\"First Fruit is: \", fruits_split[0])\n",
        "print(\"Second Fruit is: \",fruits_split[1])\n",
        "print(\"Third Fruit is: \",fruits_split[2])\n",
        "print(\"First two Fruits are: \",fruits_split[0:2])\n",
        "\n",
        "# 3) List methods\n",
        "fruits_split.append(\"Apple\")\n",
        "print(\"After Adding Fruit: \", fruits_split)\n",
        "\n",
        "fruits_split.remove(\"Banana\")\n",
        "print(\"After Removing Fruit: \", fruits_split)\n",
        "\n",
        "length=len(fruits_split)\n",
        "print(\"Length of Fruits is: \",length)"
      ],
      "metadata": {
        "colab": {
          "base_uri": "https://localhost:8080/"
        },
        "id": "7fn8Ikzu3yLd",
        "outputId": "abf22293-fb14-4d83-933e-14d2de46f383"
      },
      "execution_count": null,
      "outputs": [
        {
          "output_type": "stream",
          "name": "stdout",
          "text": [
            "Enter your three favorite fruits separated by Comma ',':apple,Banana,orange\n",
            "['apple', 'Banana', 'orange']\n",
            "First Fruit is:  apple\n",
            "Second Fruit is:  Banana\n",
            "Third Fruit is:  orange\n",
            "First two Fruits are:  ['apple', 'Banana']\n",
            "After Adding Fruit:  ['apple', 'Banana', 'orange', 'Apple']\n",
            "After Removing Fruit:  ['apple', 'orange', 'Apple']\n",
            "Length of Fruits is:  3\n"
          ]
        }
      ]
    }
  ]
}